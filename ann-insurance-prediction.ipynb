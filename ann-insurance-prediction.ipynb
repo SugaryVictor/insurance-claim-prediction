{
 "cells": [
  {
   "cell_type": "markdown",
   "source": [
    "# Imports"
   ],
   "metadata": {
    "collapsed": false,
    "pycharm": {
     "name": "#%% md\n"
    }
   }
  },
  {
   "cell_type": "code",
   "execution_count": 1,
   "outputs": [
    {
     "name": "stderr",
     "output_type": "stream",
     "text": [
      "2022-07-03 14:19:04.544891: W tensorflow/stream_executor/platform/default/dso_loader.cc:64] Could not load dynamic library 'libcudart.so.11.0'; dlerror: libcudart.so.11.0: cannot open shared object file: No such file or directory\n",
      "2022-07-03 14:19:04.544927: I tensorflow/stream_executor/cuda/cudart_stub.cc:29] Ignore above cudart dlerror if you do not have a GPU set up on your machine.\n"
     ]
    }
   ],
   "source": [
    "import pandas as pd\n",
    "import numpy as np\n",
    "import tensorflow as tf"
   ],
   "metadata": {
    "collapsed": false,
    "pycharm": {
     "name": "#%%\n"
    }
   }
  },
  {
   "cell_type": "markdown",
   "source": [
    "# 1. Data preprocessing"
   ],
   "metadata": {
    "collapsed": false,
    "pycharm": {
     "name": "#%% md\n"
    }
   }
  },
  {
   "cell_type": "code",
   "execution_count": 2,
   "outputs": [],
   "source": [
    "df = pd.read_csv('./data/insurance2.csv')"
   ],
   "metadata": {
    "collapsed": false,
    "pycharm": {
     "name": "#%%\n"
    }
   }
  },
  {
   "cell_type": "code",
   "execution_count": 3,
   "outputs": [
    {
     "data": {
      "text/plain": "   age  sex     bmi  children  smoker  region      charges  insuranceclaim\n0   19    0  27.900         0       1       3  16884.92400               1\n1   18    1  33.770         1       0       2   1725.55230               1\n2   28    1  33.000         3       0       2   4449.46200               0\n3   33    1  22.705         0       0       1  21984.47061               0\n4   32    1  28.880         0       0       1   3866.85520               1",
      "text/html": "<div>\n<style scoped>\n    .dataframe tbody tr th:only-of-type {\n        vertical-align: middle;\n    }\n\n    .dataframe tbody tr th {\n        vertical-align: top;\n    }\n\n    .dataframe thead th {\n        text-align: right;\n    }\n</style>\n<table border=\"1\" class=\"dataframe\">\n  <thead>\n    <tr style=\"text-align: right;\">\n      <th></th>\n      <th>age</th>\n      <th>sex</th>\n      <th>bmi</th>\n      <th>children</th>\n      <th>smoker</th>\n      <th>region</th>\n      <th>charges</th>\n      <th>insuranceclaim</th>\n    </tr>\n  </thead>\n  <tbody>\n    <tr>\n      <th>0</th>\n      <td>19</td>\n      <td>0</td>\n      <td>27.900</td>\n      <td>0</td>\n      <td>1</td>\n      <td>3</td>\n      <td>16884.92400</td>\n      <td>1</td>\n    </tr>\n    <tr>\n      <th>1</th>\n      <td>18</td>\n      <td>1</td>\n      <td>33.770</td>\n      <td>1</td>\n      <td>0</td>\n      <td>2</td>\n      <td>1725.55230</td>\n      <td>1</td>\n    </tr>\n    <tr>\n      <th>2</th>\n      <td>28</td>\n      <td>1</td>\n      <td>33.000</td>\n      <td>3</td>\n      <td>0</td>\n      <td>2</td>\n      <td>4449.46200</td>\n      <td>0</td>\n    </tr>\n    <tr>\n      <th>3</th>\n      <td>33</td>\n      <td>1</td>\n      <td>22.705</td>\n      <td>0</td>\n      <td>0</td>\n      <td>1</td>\n      <td>21984.47061</td>\n      <td>0</td>\n    </tr>\n    <tr>\n      <th>4</th>\n      <td>32</td>\n      <td>1</td>\n      <td>28.880</td>\n      <td>0</td>\n      <td>0</td>\n      <td>1</td>\n      <td>3866.85520</td>\n      <td>1</td>\n    </tr>\n  </tbody>\n</table>\n</div>"
     },
     "execution_count": 3,
     "metadata": {},
     "output_type": "execute_result"
    }
   ],
   "source": [
    "df.head()"
   ],
   "metadata": {
    "collapsed": false,
    "pycharm": {
     "name": "#%%\n"
    }
   }
  },
  {
   "cell_type": "code",
   "execution_count": 4,
   "outputs": [
    {
     "data": {
      "text/plain": "               age          sex          bmi     children       smoker  \\\ncount  1338.000000  1338.000000  1338.000000  1338.000000  1338.000000   \nmean     39.207025     0.505232    30.663397     1.094918     0.204783   \nstd      14.049960     0.500160     6.098187     1.205493     0.403694   \nmin      18.000000     0.000000    15.960000     0.000000     0.000000   \n25%      27.000000     0.000000    26.296250     0.000000     0.000000   \n50%      39.000000     1.000000    30.400000     1.000000     0.000000   \n75%      51.000000     1.000000    34.693750     2.000000     0.000000   \nmax      64.000000     1.000000    53.130000     5.000000     1.000000   \n\n            region       charges  insuranceclaim  \ncount  1338.000000   1338.000000     1338.000000  \nmean      1.515695  13270.422265        0.585202  \nstd       1.104885  12110.011237        0.492871  \nmin       0.000000   1121.873900        0.000000  \n25%       1.000000   4740.287150        0.000000  \n50%       2.000000   9382.033000        1.000000  \n75%       2.000000  16639.912515        1.000000  \nmax       3.000000  63770.428010        1.000000  ",
      "text/html": "<div>\n<style scoped>\n    .dataframe tbody tr th:only-of-type {\n        vertical-align: middle;\n    }\n\n    .dataframe tbody tr th {\n        vertical-align: top;\n    }\n\n    .dataframe thead th {\n        text-align: right;\n    }\n</style>\n<table border=\"1\" class=\"dataframe\">\n  <thead>\n    <tr style=\"text-align: right;\">\n      <th></th>\n      <th>age</th>\n      <th>sex</th>\n      <th>bmi</th>\n      <th>children</th>\n      <th>smoker</th>\n      <th>region</th>\n      <th>charges</th>\n      <th>insuranceclaim</th>\n    </tr>\n  </thead>\n  <tbody>\n    <tr>\n      <th>count</th>\n      <td>1338.000000</td>\n      <td>1338.000000</td>\n      <td>1338.000000</td>\n      <td>1338.000000</td>\n      <td>1338.000000</td>\n      <td>1338.000000</td>\n      <td>1338.000000</td>\n      <td>1338.000000</td>\n    </tr>\n    <tr>\n      <th>mean</th>\n      <td>39.207025</td>\n      <td>0.505232</td>\n      <td>30.663397</td>\n      <td>1.094918</td>\n      <td>0.204783</td>\n      <td>1.515695</td>\n      <td>13270.422265</td>\n      <td>0.585202</td>\n    </tr>\n    <tr>\n      <th>std</th>\n      <td>14.049960</td>\n      <td>0.500160</td>\n      <td>6.098187</td>\n      <td>1.205493</td>\n      <td>0.403694</td>\n      <td>1.104885</td>\n      <td>12110.011237</td>\n      <td>0.492871</td>\n    </tr>\n    <tr>\n      <th>min</th>\n      <td>18.000000</td>\n      <td>0.000000</td>\n      <td>15.960000</td>\n      <td>0.000000</td>\n      <td>0.000000</td>\n      <td>0.000000</td>\n      <td>1121.873900</td>\n      <td>0.000000</td>\n    </tr>\n    <tr>\n      <th>25%</th>\n      <td>27.000000</td>\n      <td>0.000000</td>\n      <td>26.296250</td>\n      <td>0.000000</td>\n      <td>0.000000</td>\n      <td>1.000000</td>\n      <td>4740.287150</td>\n      <td>0.000000</td>\n    </tr>\n    <tr>\n      <th>50%</th>\n      <td>39.000000</td>\n      <td>1.000000</td>\n      <td>30.400000</td>\n      <td>1.000000</td>\n      <td>0.000000</td>\n      <td>2.000000</td>\n      <td>9382.033000</td>\n      <td>1.000000</td>\n    </tr>\n    <tr>\n      <th>75%</th>\n      <td>51.000000</td>\n      <td>1.000000</td>\n      <td>34.693750</td>\n      <td>2.000000</td>\n      <td>0.000000</td>\n      <td>2.000000</td>\n      <td>16639.912515</td>\n      <td>1.000000</td>\n    </tr>\n    <tr>\n      <th>max</th>\n      <td>64.000000</td>\n      <td>1.000000</td>\n      <td>53.130000</td>\n      <td>5.000000</td>\n      <td>1.000000</td>\n      <td>3.000000</td>\n      <td>63770.428010</td>\n      <td>1.000000</td>\n    </tr>\n  </tbody>\n</table>\n</div>"
     },
     "execution_count": 4,
     "metadata": {},
     "output_type": "execute_result"
    }
   ],
   "source": [
    "df.describe()"
   ],
   "metadata": {
    "collapsed": false,
    "pycharm": {
     "name": "#%%\n"
    }
   }
  },
  {
   "cell_type": "code",
   "execution_count": 5,
   "outputs": [],
   "source": [
    "X = df.iloc[:, 0:7].values\n",
    "y = df['insuranceclaim'].values"
   ],
   "metadata": {
    "collapsed": false,
    "pycharm": {
     "name": "#%%\n"
    }
   }
  },
  {
   "cell_type": "markdown",
   "source": [
    "## Data split"
   ],
   "metadata": {
    "collapsed": false,
    "pycharm": {
     "name": "#%% md\n"
    }
   }
  },
  {
   "cell_type": "code",
   "execution_count": 6,
   "outputs": [],
   "source": [
    "from sklearn.model_selection import train_test_split\n",
    "X_train, X_test, y_train, y_test = train_test_split(X, y, test_size=0.2, random_state=0)"
   ],
   "metadata": {
    "collapsed": false,
    "pycharm": {
     "name": "#%%\n"
    }
   }
  },
  {
   "cell_type": "markdown",
   "source": [
    "## Feature scaling"
   ],
   "metadata": {
    "collapsed": false,
    "pycharm": {
     "name": "#%% md\n"
    }
   }
  },
  {
   "cell_type": "code",
   "execution_count": 7,
   "outputs": [],
   "source": [
    "from sklearn.preprocessing import StandardScaler\n",
    "sc = StandardScaler()"
   ],
   "metadata": {
    "collapsed": false,
    "pycharm": {
     "name": "#%%\n"
    }
   }
  },
  {
   "cell_type": "code",
   "execution_count": 8,
   "outputs": [],
   "source": [
    "X_train = sc.fit_transform(X_train)\n",
    "X_test = sc.fit_transform(X_test)"
   ],
   "metadata": {
    "collapsed": false,
    "pycharm": {
     "name": "#%%\n"
    }
   }
  },
  {
   "cell_type": "markdown",
   "source": [
    "# 2. ANN building\n",
    "with Keras"
   ],
   "metadata": {
    "collapsed": false,
    "pycharm": {
     "name": "#%% md\n"
    }
   }
  },
  {
   "cell_type": "code",
   "execution_count": 9,
   "outputs": [
    {
     "name": "stderr",
     "output_type": "stream",
     "text": [
      "2022-07-03 14:19:09.815183: W tensorflow/stream_executor/platform/default/dso_loader.cc:64] Could not load dynamic library 'libcuda.so.1'; dlerror: libcuda.so.1: cannot open shared object file: No such file or directory\n",
      "2022-07-03 14:19:09.815229: W tensorflow/stream_executor/cuda/cuda_driver.cc:269] failed call to cuInit: UNKNOWN ERROR (303)\n",
      "2022-07-03 14:19:09.815283: I tensorflow/stream_executor/cuda/cuda_diagnostics.cc:156] kernel driver does not appear to be running on this host (fedora): /proc/driver/nvidia/version does not exist\n",
      "2022-07-03 14:19:09.817705: I tensorflow/core/platform/cpu_feature_guard.cc:193] This TensorFlow binary is optimized with oneAPI Deep Neural Network Library (oneDNN) to use the following CPU instructions in performance-critical operations:  AVX2 FMA\n",
      "To enable them in other operations, rebuild TensorFlow with the appropriate compiler flags.\n"
     ]
    }
   ],
   "source": [
    "ann = tf.keras.models.Sequential() #init"
   ],
   "metadata": {
    "collapsed": false,
    "pycharm": {
     "name": "#%%\n"
    }
   }
  },
  {
   "cell_type": "markdown",
   "source": [
    "## ANN layers"
   ],
   "metadata": {
    "collapsed": false,
    "pycharm": {
     "name": "#%% md\n"
    }
   }
  },
  {
   "cell_type": "code",
   "execution_count": 10,
   "outputs": [],
   "source": [
    "ann.add(tf.keras.layers.Dense(units=7, activation='relu'))"
   ],
   "metadata": {
    "collapsed": false,
    "pycharm": {
     "name": "#%%\n"
    }
   }
  },
  {
   "cell_type": "code",
   "execution_count": 11,
   "outputs": [],
   "source": [
    "ann.add(tf.keras.layers.Dense(units=7, activation='relu'))"
   ],
   "metadata": {
    "collapsed": false,
    "pycharm": {
     "name": "#%%\n"
    }
   }
  },
  {
   "cell_type": "code",
   "execution_count": 12,
   "outputs": [],
   "source": [
    "ann.add(tf.keras.layers.Dense(units=7, activation='relu'))"
   ],
   "metadata": {
    "collapsed": false,
    "pycharm": {
     "name": "#%%\n"
    }
   }
  },
  {
   "cell_type": "code",
   "execution_count": 13,
   "outputs": [],
   "source": [
    "ann.add(tf.keras.layers.Dense(units=1, activation='sigmoid'))"
   ],
   "metadata": {
    "collapsed": false,
    "pycharm": {
     "name": "#%%\n"
    }
   }
  },
  {
   "cell_type": "markdown",
   "source": [
    "# 3. Training ANN"
   ],
   "metadata": {
    "collapsed": false,
    "pycharm": {
     "name": "#%% md\n"
    }
   }
  },
  {
   "cell_type": "code",
   "execution_count": 14,
   "outputs": [],
   "source": [
    "ann.compile(optimizer='adam', loss='binary_crossentropy', metrics=['accuracy']) #compile"
   ],
   "metadata": {
    "collapsed": false,
    "pycharm": {
     "name": "#%%\n"
    }
   }
  },
  {
   "cell_type": "code",
   "execution_count": 15,
   "outputs": [
    {
     "name": "stdout",
     "output_type": "stream",
     "text": [
      "Epoch 1/150\n",
      "34/34 [==============================] - 1s 3ms/step - loss: 0.6471 - accuracy: 0.5729\n",
      "Epoch 2/150\n",
      "34/34 [==============================] - 0s 3ms/step - loss: 0.6047 - accuracy: 0.6019\n",
      "Epoch 3/150\n",
      "34/34 [==============================] - 0s 3ms/step - loss: 0.5717 - accuracy: 0.6093\n",
      "Epoch 4/150\n",
      "34/34 [==============================] - 0s 3ms/step - loss: 0.5427 - accuracy: 0.6841\n",
      "Epoch 5/150\n",
      "34/34 [==============================] - 0s 3ms/step - loss: 0.5161 - accuracy: 0.7701\n",
      "Epoch 6/150\n",
      "34/34 [==============================] - 0s 3ms/step - loss: 0.4893 - accuracy: 0.7869\n",
      "Epoch 7/150\n",
      "34/34 [==============================] - 0s 3ms/step - loss: 0.4608 - accuracy: 0.8000\n",
      "Epoch 8/150\n",
      "34/34 [==============================] - 0s 3ms/step - loss: 0.4330 - accuracy: 0.8103\n",
      "Epoch 9/150\n",
      "34/34 [==============================] - 0s 3ms/step - loss: 0.4057 - accuracy: 0.8336\n",
      "Epoch 10/150\n",
      "34/34 [==============================] - 0s 2ms/step - loss: 0.3830 - accuracy: 0.8355\n",
      "Epoch 11/150\n",
      "34/34 [==============================] - 0s 2ms/step - loss: 0.3595 - accuracy: 0.8561\n",
      "Epoch 12/150\n",
      "34/34 [==============================] - 0s 4ms/step - loss: 0.3417 - accuracy: 0.8598\n",
      "Epoch 13/150\n",
      "34/34 [==============================] - 0s 3ms/step - loss: 0.3282 - accuracy: 0.8710\n",
      "Epoch 14/150\n",
      "34/34 [==============================] - 0s 3ms/step - loss: 0.3166 - accuracy: 0.8701\n",
      "Epoch 15/150\n",
      "34/34 [==============================] - 0s 2ms/step - loss: 0.3069 - accuracy: 0.8748\n",
      "Epoch 16/150\n",
      "34/34 [==============================] - 0s 3ms/step - loss: 0.3000 - accuracy: 0.8822\n",
      "Epoch 17/150\n",
      "34/34 [==============================] - 0s 2ms/step - loss: 0.2934 - accuracy: 0.8850\n",
      "Epoch 18/150\n",
      "34/34 [==============================] - 0s 2ms/step - loss: 0.2875 - accuracy: 0.8907\n",
      "Epoch 19/150\n",
      "34/34 [==============================] - 0s 3ms/step - loss: 0.2840 - accuracy: 0.8879\n",
      "Epoch 20/150\n",
      "34/34 [==============================] - 0s 2ms/step - loss: 0.2801 - accuracy: 0.8907\n",
      "Epoch 21/150\n",
      "34/34 [==============================] - 0s 3ms/step - loss: 0.2758 - accuracy: 0.8907\n",
      "Epoch 22/150\n",
      "34/34 [==============================] - 0s 2ms/step - loss: 0.2718 - accuracy: 0.8972\n",
      "Epoch 23/150\n",
      "34/34 [==============================] - 0s 2ms/step - loss: 0.2684 - accuracy: 0.8953\n",
      "Epoch 24/150\n",
      "34/34 [==============================] - 0s 3ms/step - loss: 0.2662 - accuracy: 0.8963\n",
      "Epoch 25/150\n",
      "34/34 [==============================] - 0s 2ms/step - loss: 0.2633 - accuracy: 0.9000\n",
      "Epoch 26/150\n",
      "34/34 [==============================] - 0s 3ms/step - loss: 0.2608 - accuracy: 0.9037\n",
      "Epoch 27/150\n",
      "34/34 [==============================] - 0s 3ms/step - loss: 0.2595 - accuracy: 0.8981\n",
      "Epoch 28/150\n",
      "34/34 [==============================] - 0s 3ms/step - loss: 0.2576 - accuracy: 0.9037\n",
      "Epoch 29/150\n",
      "34/34 [==============================] - 0s 3ms/step - loss: 0.2555 - accuracy: 0.9056\n",
      "Epoch 30/150\n",
      "34/34 [==============================] - 0s 2ms/step - loss: 0.2535 - accuracy: 0.9037\n",
      "Epoch 31/150\n",
      "34/34 [==============================] - 0s 2ms/step - loss: 0.2522 - accuracy: 0.9028\n",
      "Epoch 32/150\n",
      "34/34 [==============================] - 0s 3ms/step - loss: 0.2508 - accuracy: 0.9047\n",
      "Epoch 33/150\n",
      "34/34 [==============================] - 0s 2ms/step - loss: 0.2495 - accuracy: 0.9037\n",
      "Epoch 34/150\n",
      "34/34 [==============================] - 0s 6ms/step - loss: 0.2483 - accuracy: 0.9028\n",
      "Epoch 35/150\n",
      "34/34 [==============================] - 0s 4ms/step - loss: 0.2474 - accuracy: 0.9019\n",
      "Epoch 36/150\n",
      "34/34 [==============================] - 0s 4ms/step - loss: 0.2471 - accuracy: 0.9028\n",
      "Epoch 37/150\n",
      "34/34 [==============================] - 0s 2ms/step - loss: 0.2457 - accuracy: 0.9047\n",
      "Epoch 38/150\n",
      "34/34 [==============================] - 0s 2ms/step - loss: 0.2438 - accuracy: 0.9037\n",
      "Epoch 39/150\n",
      "34/34 [==============================] - 0s 3ms/step - loss: 0.2427 - accuracy: 0.9000\n",
      "Epoch 40/150\n",
      "34/34 [==============================] - 0s 3ms/step - loss: 0.2420 - accuracy: 0.9028\n",
      "Epoch 41/150\n",
      "34/34 [==============================] - 0s 4ms/step - loss: 0.2408 - accuracy: 0.9037\n",
      "Epoch 42/150\n",
      "34/34 [==============================] - 0s 3ms/step - loss: 0.2391 - accuracy: 0.9065\n",
      "Epoch 43/150\n",
      "34/34 [==============================] - 0s 3ms/step - loss: 0.2373 - accuracy: 0.9093\n",
      "Epoch 44/150\n",
      "34/34 [==============================] - 0s 3ms/step - loss: 0.2360 - accuracy: 0.9075\n",
      "Epoch 45/150\n",
      "34/34 [==============================] - 0s 3ms/step - loss: 0.2351 - accuracy: 0.9047\n",
      "Epoch 46/150\n",
      "34/34 [==============================] - 0s 3ms/step - loss: 0.2345 - accuracy: 0.9047\n",
      "Epoch 47/150\n",
      "34/34 [==============================] - 0s 3ms/step - loss: 0.2328 - accuracy: 0.9065\n",
      "Epoch 48/150\n",
      "34/34 [==============================] - 0s 3ms/step - loss: 0.2313 - accuracy: 0.9065\n",
      "Epoch 49/150\n",
      "34/34 [==============================] - 0s 3ms/step - loss: 0.2300 - accuracy: 0.9075\n",
      "Epoch 50/150\n",
      "34/34 [==============================] - 0s 2ms/step - loss: 0.2291 - accuracy: 0.9065\n",
      "Epoch 51/150\n",
      "34/34 [==============================] - 0s 3ms/step - loss: 0.2281 - accuracy: 0.9037\n",
      "Epoch 52/150\n",
      "34/34 [==============================] - 0s 3ms/step - loss: 0.2279 - accuracy: 0.9065\n",
      "Epoch 53/150\n",
      "34/34 [==============================] - 0s 3ms/step - loss: 0.2255 - accuracy: 0.9065\n",
      "Epoch 54/150\n",
      "34/34 [==============================] - 0s 2ms/step - loss: 0.2242 - accuracy: 0.9093\n",
      "Epoch 55/150\n",
      "34/34 [==============================] - 0s 3ms/step - loss: 0.2230 - accuracy: 0.9084\n",
      "Epoch 56/150\n",
      "34/34 [==============================] - 0s 3ms/step - loss: 0.2229 - accuracy: 0.9065\n",
      "Epoch 57/150\n",
      "34/34 [==============================] - 0s 3ms/step - loss: 0.2213 - accuracy: 0.9084\n",
      "Epoch 58/150\n",
      "34/34 [==============================] - 0s 2ms/step - loss: 0.2198 - accuracy: 0.9084\n",
      "Epoch 59/150\n",
      "34/34 [==============================] - 0s 2ms/step - loss: 0.2194 - accuracy: 0.9121\n",
      "Epoch 60/150\n",
      "34/34 [==============================] - 0s 2ms/step - loss: 0.2186 - accuracy: 0.9112\n",
      "Epoch 61/150\n",
      "34/34 [==============================] - 0s 2ms/step - loss: 0.2178 - accuracy: 0.9093\n",
      "Epoch 62/150\n",
      "34/34 [==============================] - 0s 3ms/step - loss: 0.2173 - accuracy: 0.9103\n",
      "Epoch 63/150\n",
      "34/34 [==============================] - 0s 2ms/step - loss: 0.2160 - accuracy: 0.9121\n",
      "Epoch 64/150\n",
      "34/34 [==============================] - 0s 3ms/step - loss: 0.2156 - accuracy: 0.9121\n",
      "Epoch 65/150\n",
      "34/34 [==============================] - 0s 2ms/step - loss: 0.2158 - accuracy: 0.9140\n",
      "Epoch 66/150\n",
      "34/34 [==============================] - 0s 3ms/step - loss: 0.2146 - accuracy: 0.9140\n",
      "Epoch 67/150\n",
      "34/34 [==============================] - 0s 3ms/step - loss: 0.2146 - accuracy: 0.9093\n",
      "Epoch 68/150\n",
      "34/34 [==============================] - 0s 2ms/step - loss: 0.2141 - accuracy: 0.9121\n",
      "Epoch 69/150\n",
      "34/34 [==============================] - 0s 3ms/step - loss: 0.2129 - accuracy: 0.9150\n",
      "Epoch 70/150\n",
      "34/34 [==============================] - 0s 3ms/step - loss: 0.2125 - accuracy: 0.9112\n",
      "Epoch 71/150\n",
      "34/34 [==============================] - 0s 2ms/step - loss: 0.2117 - accuracy: 0.9121\n",
      "Epoch 72/150\n",
      "34/34 [==============================] - 0s 3ms/step - loss: 0.2115 - accuracy: 0.9150\n",
      "Epoch 73/150\n",
      "34/34 [==============================] - 0s 3ms/step - loss: 0.2101 - accuracy: 0.9140\n",
      "Epoch 74/150\n",
      "34/34 [==============================] - 0s 2ms/step - loss: 0.2095 - accuracy: 0.9140\n",
      "Epoch 75/150\n",
      "34/34 [==============================] - 0s 3ms/step - loss: 0.2094 - accuracy: 0.9150\n",
      "Epoch 76/150\n",
      "34/34 [==============================] - 0s 4ms/step - loss: 0.2088 - accuracy: 0.9103\n",
      "Epoch 77/150\n",
      "34/34 [==============================] - 0s 3ms/step - loss: 0.2075 - accuracy: 0.9112\n",
      "Epoch 78/150\n",
      "34/34 [==============================] - 0s 2ms/step - loss: 0.2070 - accuracy: 0.9121\n",
      "Epoch 79/150\n",
      "34/34 [==============================] - 0s 2ms/step - loss: 0.2062 - accuracy: 0.9121\n",
      "Epoch 80/150\n",
      "34/34 [==============================] - 0s 3ms/step - loss: 0.2051 - accuracy: 0.9168\n",
      "Epoch 81/150\n",
      "34/34 [==============================] - 0s 2ms/step - loss: 0.2042 - accuracy: 0.9159\n",
      "Epoch 82/150\n",
      "34/34 [==============================] - 0s 3ms/step - loss: 0.2033 - accuracy: 0.9150\n",
      "Epoch 83/150\n",
      "34/34 [==============================] - 0s 3ms/step - loss: 0.2041 - accuracy: 0.9121\n",
      "Epoch 84/150\n",
      "34/34 [==============================] - 0s 2ms/step - loss: 0.2025 - accuracy: 0.9121\n",
      "Epoch 85/150\n",
      "34/34 [==============================] - 0s 3ms/step - loss: 0.2011 - accuracy: 0.9159\n",
      "Epoch 86/150\n",
      "34/34 [==============================] - 0s 3ms/step - loss: 0.1999 - accuracy: 0.9131\n",
      "Epoch 87/150\n",
      "34/34 [==============================] - 0s 3ms/step - loss: 0.1998 - accuracy: 0.9150\n",
      "Epoch 88/150\n",
      "34/34 [==============================] - 0s 3ms/step - loss: 0.1990 - accuracy: 0.9159\n",
      "Epoch 89/150\n",
      "34/34 [==============================] - 0s 3ms/step - loss: 0.1985 - accuracy: 0.9168\n",
      "Epoch 90/150\n",
      "34/34 [==============================] - 0s 3ms/step - loss: 0.1977 - accuracy: 0.9168\n",
      "Epoch 91/150\n",
      "34/34 [==============================] - 0s 2ms/step - loss: 0.1964 - accuracy: 0.9159\n",
      "Epoch 92/150\n",
      "34/34 [==============================] - 0s 2ms/step - loss: 0.1967 - accuracy: 0.9150\n",
      "Epoch 93/150\n",
      "34/34 [==============================] - 0s 2ms/step - loss: 0.1953 - accuracy: 0.9168\n",
      "Epoch 94/150\n",
      "34/34 [==============================] - 0s 3ms/step - loss: 0.1965 - accuracy: 0.9159\n",
      "Epoch 95/150\n",
      "34/34 [==============================] - 0s 2ms/step - loss: 0.1948 - accuracy: 0.9168\n",
      "Epoch 96/150\n",
      "34/34 [==============================] - 0s 2ms/step - loss: 0.1939 - accuracy: 0.9168\n",
      "Epoch 97/150\n",
      "34/34 [==============================] - 0s 2ms/step - loss: 0.1938 - accuracy: 0.9159\n",
      "Epoch 98/150\n",
      "34/34 [==============================] - 0s 2ms/step - loss: 0.1930 - accuracy: 0.9168\n",
      "Epoch 99/150\n",
      "34/34 [==============================] - 0s 2ms/step - loss: 0.1926 - accuracy: 0.9178\n",
      "Epoch 100/150\n",
      "34/34 [==============================] - 0s 2ms/step - loss: 0.1919 - accuracy: 0.9159\n",
      "Epoch 101/150\n",
      "34/34 [==============================] - 0s 2ms/step - loss: 0.1906 - accuracy: 0.9168\n",
      "Epoch 102/150\n",
      "34/34 [==============================] - 0s 2ms/step - loss: 0.1906 - accuracy: 0.9178\n",
      "Epoch 103/150\n",
      "34/34 [==============================] - 0s 2ms/step - loss: 0.1901 - accuracy: 0.9159\n",
      "Epoch 104/150\n",
      "34/34 [==============================] - 0s 2ms/step - loss: 0.1885 - accuracy: 0.9150\n",
      "Epoch 105/150\n",
      "34/34 [==============================] - 0s 3ms/step - loss: 0.1880 - accuracy: 0.9159\n",
      "Epoch 106/150\n",
      "34/34 [==============================] - 0s 2ms/step - loss: 0.1876 - accuracy: 0.9178\n",
      "Epoch 107/150\n",
      "34/34 [==============================] - 0s 2ms/step - loss: 0.1867 - accuracy: 0.9150\n",
      "Epoch 108/150\n",
      "34/34 [==============================] - 0s 2ms/step - loss: 0.1860 - accuracy: 0.9159\n",
      "Epoch 109/150\n",
      "34/34 [==============================] - 0s 2ms/step - loss: 0.1856 - accuracy: 0.9159\n",
      "Epoch 110/150\n",
      "34/34 [==============================] - 0s 2ms/step - loss: 0.1853 - accuracy: 0.9187\n",
      "Epoch 111/150\n",
      "34/34 [==============================] - 0s 2ms/step - loss: 0.1862 - accuracy: 0.9140\n",
      "Epoch 112/150\n",
      "34/34 [==============================] - 0s 2ms/step - loss: 0.1832 - accuracy: 0.9168\n",
      "Epoch 113/150\n",
      "34/34 [==============================] - 0s 2ms/step - loss: 0.1823 - accuracy: 0.9187\n",
      "Epoch 114/150\n",
      "34/34 [==============================] - 0s 2ms/step - loss: 0.1812 - accuracy: 0.9168\n",
      "Epoch 115/150\n",
      "34/34 [==============================] - 0s 2ms/step - loss: 0.1803 - accuracy: 0.9196\n",
      "Epoch 116/150\n",
      "34/34 [==============================] - 0s 2ms/step - loss: 0.1801 - accuracy: 0.9187\n",
      "Epoch 117/150\n",
      "34/34 [==============================] - 0s 2ms/step - loss: 0.1797 - accuracy: 0.9196\n",
      "Epoch 118/150\n",
      "34/34 [==============================] - 0s 2ms/step - loss: 0.1799 - accuracy: 0.9187\n",
      "Epoch 119/150\n",
      "34/34 [==============================] - 0s 2ms/step - loss: 0.1787 - accuracy: 0.9187\n",
      "Epoch 120/150\n",
      "34/34 [==============================] - 0s 2ms/step - loss: 0.1781 - accuracy: 0.9206\n",
      "Epoch 121/150\n",
      "34/34 [==============================] - 0s 2ms/step - loss: 0.1767 - accuracy: 0.9187\n",
      "Epoch 122/150\n",
      "34/34 [==============================] - 0s 2ms/step - loss: 0.1764 - accuracy: 0.9196\n",
      "Epoch 123/150\n",
      "34/34 [==============================] - 0s 2ms/step - loss: 0.1756 - accuracy: 0.9206\n",
      "Epoch 124/150\n",
      "34/34 [==============================] - 0s 2ms/step - loss: 0.1746 - accuracy: 0.9206\n",
      "Epoch 125/150\n",
      "34/34 [==============================] - 0s 2ms/step - loss: 0.1740 - accuracy: 0.9187\n",
      "Epoch 126/150\n",
      "34/34 [==============================] - 0s 2ms/step - loss: 0.1737 - accuracy: 0.9187\n",
      "Epoch 127/150\n",
      "34/34 [==============================] - 0s 2ms/step - loss: 0.1724 - accuracy: 0.9206\n",
      "Epoch 128/150\n",
      "34/34 [==============================] - 0s 2ms/step - loss: 0.1717 - accuracy: 0.9206\n",
      "Epoch 129/150\n",
      "34/34 [==============================] - 0s 2ms/step - loss: 0.1716 - accuracy: 0.9215\n",
      "Epoch 130/150\n",
      "34/34 [==============================] - 0s 1ms/step - loss: 0.1709 - accuracy: 0.9196\n",
      "Epoch 131/150\n",
      "34/34 [==============================] - 0s 2ms/step - loss: 0.1703 - accuracy: 0.9187\n",
      "Epoch 132/150\n",
      "34/34 [==============================] - 0s 2ms/step - loss: 0.1700 - accuracy: 0.9215\n",
      "Epoch 133/150\n",
      "34/34 [==============================] - 0s 2ms/step - loss: 0.1689 - accuracy: 0.9196\n",
      "Epoch 134/150\n",
      "34/34 [==============================] - 0s 2ms/step - loss: 0.1693 - accuracy: 0.9206\n",
      "Epoch 135/150\n",
      "34/34 [==============================] - 0s 2ms/step - loss: 0.1685 - accuracy: 0.9215\n",
      "Epoch 136/150\n",
      "34/34 [==============================] - 0s 2ms/step - loss: 0.1675 - accuracy: 0.9206\n",
      "Epoch 137/150\n",
      "34/34 [==============================] - 0s 2ms/step - loss: 0.1670 - accuracy: 0.9196\n",
      "Epoch 138/150\n",
      "34/34 [==============================] - 0s 2ms/step - loss: 0.1666 - accuracy: 0.9215\n",
      "Epoch 139/150\n",
      "34/34 [==============================] - 0s 2ms/step - loss: 0.1654 - accuracy: 0.9215\n",
      "Epoch 140/150\n",
      "34/34 [==============================] - 0s 2ms/step - loss: 0.1647 - accuracy: 0.9215\n",
      "Epoch 141/150\n",
      "34/34 [==============================] - 0s 2ms/step - loss: 0.1641 - accuracy: 0.9215\n",
      "Epoch 142/150\n",
      "34/34 [==============================] - 0s 2ms/step - loss: 0.1637 - accuracy: 0.9224\n",
      "Epoch 143/150\n",
      "34/34 [==============================] - 0s 2ms/step - loss: 0.1628 - accuracy: 0.9215\n",
      "Epoch 144/150\n",
      "34/34 [==============================] - 0s 2ms/step - loss: 0.1634 - accuracy: 0.9196\n",
      "Epoch 145/150\n",
      "34/34 [==============================] - 0s 2ms/step - loss: 0.1628 - accuracy: 0.9215\n",
      "Epoch 146/150\n",
      "34/34 [==============================] - 0s 2ms/step - loss: 0.1621 - accuracy: 0.9206\n",
      "Epoch 147/150\n",
      "34/34 [==============================] - 0s 2ms/step - loss: 0.1610 - accuracy: 0.9224\n",
      "Epoch 148/150\n",
      "34/34 [==============================] - 0s 2ms/step - loss: 0.1603 - accuracy: 0.9206\n",
      "Epoch 149/150\n",
      "34/34 [==============================] - 0s 2ms/step - loss: 0.1595 - accuracy: 0.9215\n",
      "Epoch 150/150\n",
      "34/34 [==============================] - 0s 2ms/step - loss: 0.1597 - accuracy: 0.9196\n"
     ]
    },
    {
     "data": {
      "text/plain": "<keras.callbacks.History at 0x7f1e6441f910>"
     },
     "execution_count": 15,
     "metadata": {},
     "output_type": "execute_result"
    }
   ],
   "source": [
    "ann.fit(X_train, y_train, batch_size=32, epochs=150)"
   ],
   "metadata": {
    "collapsed": false,
    "pycharm": {
     "name": "#%%\n"
    }
   }
  },
  {
   "cell_type": "markdown",
   "source": [
    "# 4. Predict"
   ],
   "metadata": {
    "collapsed": false,
    "pycharm": {
     "name": "#%% md\n"
    }
   }
  },
  {
   "cell_type": "code",
   "execution_count": 16,
   "outputs": [
    {
     "name": "stdout",
     "output_type": "stream",
     "text": [
      "1/1 [==============================] - 0s 112ms/step\n",
      "[[ True]]\n"
     ]
    }
   ],
   "source": [
    "print(ann.predict(sc.fit_transform([[18, 1, 18.5, 0, 1, 2, 10000]])) > 0.6)"
   ],
   "metadata": {
    "collapsed": false,
    "pycharm": {
     "name": "#%%\n"
    }
   }
  },
  {
   "cell_type": "markdown",
   "source": [
    "## 5. ANN зrediction accuracy\n",
    "create confusion matrix"
   ],
   "metadata": {
    "collapsed": false,
    "pycharm": {
     "name": "#%% md\n"
    }
   }
  },
  {
   "cell_type": "code",
   "execution_count": 19,
   "outputs": [
    {
     "name": "stdout",
     "output_type": "stream",
     "text": [
      "9/9 [==============================] - 0s 3ms/step\n"
     ]
    },
    {
     "data": {
      "text/plain": "array([[1, 1],\n       [0, 0],\n       [1, 1],\n       [1, 1],\n       [0, 0],\n       [0, 0],\n       [1, 1],\n       [0, 0],\n       [0, 0],\n       [0, 0],\n       [0, 0],\n       [0, 1],\n       [0, 0],\n       [0, 0],\n       [1, 1],\n       [0, 1],\n       [0, 0],\n       [1, 1],\n       [0, 0],\n       [1, 1],\n       [1, 1],\n       [0, 0],\n       [1, 1],\n       [1, 1],\n       [1, 1],\n       [1, 0],\n       [0, 1],\n       [0, 0],\n       [1, 0],\n       [0, 0],\n       [0, 0],\n       [1, 1],\n       [1, 1],\n       [1, 1],\n       [1, 1],\n       [1, 1],\n       [0, 1],\n       [1, 1],\n       [1, 1],\n       [1, 1],\n       [0, 0],\n       [1, 1],\n       [1, 1],\n       [1, 1],\n       [1, 1],\n       [0, 0],\n       [0, 1],\n       [0, 0],\n       [0, 0],\n       [0, 0],\n       [1, 1],\n       [0, 0],\n       [1, 1],\n       [1, 1],\n       [1, 1],\n       [1, 1],\n       [1, 1],\n       [1, 1],\n       [0, 1],\n       [0, 0],\n       [1, 1],\n       [1, 1],\n       [0, 0],\n       [0, 0],\n       [0, 0],\n       [1, 1],\n       [1, 1],\n       [1, 1],\n       [0, 0],\n       [0, 0],\n       [1, 1],\n       [0, 0],\n       [1, 1],\n       [1, 1],\n       [0, 0],\n       [1, 1],\n       [0, 0],\n       [0, 0],\n       [1, 1],\n       [1, 1],\n       [1, 1],\n       [1, 1],\n       [1, 1],\n       [1, 1],\n       [1, 1],\n       [1, 0],\n       [1, 1],\n       [1, 1],\n       [0, 0],\n       [1, 1],\n       [0, 0],\n       [1, 1],\n       [1, 1],\n       [0, 1],\n       [1, 1],\n       [1, 1],\n       [1, 1],\n       [1, 1],\n       [0, 0],\n       [1, 1],\n       [1, 1],\n       [1, 1],\n       [0, 0],\n       [1, 1],\n       [1, 0],\n       [0, 0],\n       [0, 0],\n       [1, 1],\n       [1, 1],\n       [1, 1],\n       [0, 0],\n       [0, 0],\n       [0, 0],\n       [1, 1],\n       [1, 1],\n       [0, 1],\n       [0, 0],\n       [1, 1],\n       [1, 1],\n       [0, 1],\n       [1, 1],\n       [0, 0],\n       [1, 1],\n       [0, 0],\n       [0, 0],\n       [0, 0],\n       [1, 1],\n       [1, 1],\n       [1, 1],\n       [1, 1],\n       [0, 1],\n       [1, 1],\n       [1, 0],\n       [0, 0],\n       [1, 1],\n       [1, 1],\n       [1, 1],\n       [0, 0],\n       [1, 1],\n       [0, 0],\n       [1, 1],\n       [1, 1],\n       [0, 1],\n       [1, 1],\n       [0, 0],\n       [1, 1],\n       [1, 1],\n       [0, 0],\n       [0, 0],\n       [0, 0],\n       [0, 0],\n       [1, 1],\n       [1, 1],\n       [1, 0],\n       [1, 0],\n       [0, 0],\n       [1, 1],\n       [0, 0],\n       [0, 1],\n       [0, 0],\n       [0, 0],\n       [1, 1],\n       [1, 0],\n       [1, 1],\n       [0, 0],\n       [0, 0],\n       [1, 1],\n       [0, 0],\n       [0, 0],\n       [1, 1],\n       [0, 0],\n       [0, 0],\n       [0, 0],\n       [1, 1],\n       [0, 0],\n       [0, 0],\n       [0, 0],\n       [0, 0],\n       [1, 1],\n       [1, 1],\n       [0, 0],\n       [0, 0],\n       [1, 1],\n       [1, 1],\n       [0, 0],\n       [1, 1],\n       [1, 1],\n       [0, 0],\n       [1, 1],\n       [0, 0],\n       [1, 1],\n       [0, 0],\n       [0, 0],\n       [1, 1],\n       [1, 1],\n       [0, 0],\n       [0, 0],\n       [0, 0],\n       [0, 0],\n       [0, 0],\n       [1, 1],\n       [1, 1],\n       [0, 0],\n       [0, 0],\n       [0, 0],\n       [1, 1],\n       [0, 0],\n       [1, 1],\n       [0, 0],\n       [1, 1],\n       [1, 1],\n       [1, 1],\n       [0, 0],\n       [1, 1],\n       [0, 0],\n       [0, 0],\n       [0, 0],\n       [0, 0],\n       [0, 1],\n       [0, 1],\n       [0, 0],\n       [0, 0],\n       [1, 1],\n       [0, 0],\n       [1, 1],\n       [1, 1],\n       [1, 1],\n       [0, 0],\n       [0, 0],\n       [1, 0],\n       [1, 1],\n       [1, 1],\n       [1, 1],\n       [0, 0],\n       [0, 0],\n       [0, 0],\n       [0, 0],\n       [1, 1],\n       [0, 0],\n       [0, 0],\n       [1, 1],\n       [1, 1],\n       [0, 1],\n       [0, 0],\n       [0, 0],\n       [1, 1],\n       [0, 0],\n       [1, 1],\n       [0, 0],\n       [0, 0],\n       [1, 1],\n       [1, 1],\n       [0, 0],\n       [1, 1],\n       [1, 1],\n       [0, 0],\n       [1, 1],\n       [1, 1],\n       [0, 0],\n       [0, 0],\n       [0, 0],\n       [1, 1],\n       [1, 1],\n       [0, 0],\n       [0, 0],\n       [1, 1],\n       [1, 1],\n       [0, 0]])"
     },
     "execution_count": 19,
     "metadata": {},
     "output_type": "execute_result"
    }
   ],
   "source": [
    "y_pred = ann.predict(X_test)\n",
    "y_pred = (y_pred > 0.5)\n",
    "np.concatenate((y_pred.reshape(len(y_pred), 1), y_test.reshape(len(y_test), 1)), 1)"
   ],
   "metadata": {
    "collapsed": false,
    "pycharm": {
     "name": "#%%\n"
    }
   }
  },
  {
   "cell_type": "code",
   "execution_count": 20,
   "outputs": [
    {
     "name": "stdout",
     "output_type": "stream",
     "text": [
      "[[114   9]\n",
      " [ 15 130]]\n"
     ]
    },
    {
     "data": {
      "text/plain": "0.9104477611940298"
     },
     "execution_count": 20,
     "metadata": {},
     "output_type": "execute_result"
    }
   ],
   "source": [
    "from sklearn.metrics import confusion_matrix, accuracy_score\n",
    "cm = confusion_matrix(y_test, y_pred)\n",
    "print(cm)\n",
    "accuracy_score(y_test, y_pred)"
   ],
   "metadata": {
    "collapsed": false,
    "pycharm": {
     "name": "#%%\n"
    }
   }
  },
  {
   "cell_type": "code",
   "execution_count": null,
   "outputs": [],
   "source": [],
   "metadata": {
    "collapsed": false,
    "pycharm": {
     "name": "#%%\n"
    }
   }
  }
 ],
 "metadata": {
  "kernelspec": {
   "display_name": "Python 3",
   "language": "python",
   "name": "python3"
  },
  "language_info": {
   "codemirror_mode": {
    "name": "ipython",
    "version": 2
   },
   "file_extension": ".py",
   "mimetype": "text/x-python",
   "name": "python",
   "nbconvert_exporter": "python",
   "pygments_lexer": "ipython2",
   "version": "2.7.6"
  }
 },
 "nbformat": 4,
 "nbformat_minor": 0
}